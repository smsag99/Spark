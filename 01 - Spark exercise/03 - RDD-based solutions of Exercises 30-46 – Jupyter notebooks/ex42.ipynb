{
 "cells": [
  {
   "cell_type": "code",
   "execution_count": 2,
   "metadata": {},
   "outputs": [],
   "source": [
    "# Solution Ex. 42"
   ]
  },
  {
   "cell_type": "code",
   "execution_count": 1,
   "metadata": {},
   "outputs": [],
   "source": [
    "inputPathQuestions  = \"/data/students/bigdata-01QYD/ex_data/Ex42/data/questions.txt\" # argv[1]\n",
    "inputPathAnswers = \"/data/students/bigdata-01QYD/ex_data/Ex42/data/answers.txt\" # argv[2]\n",
    "outputPath = \"res_out_Ex42/\" # argv[3]"
   ]
  },
  {
   "cell_type": "code",
   "execution_count": 2,
   "metadata": {},
   "outputs": [],
   "source": [
    "# Read the content of the question file\n",
    "questionsRDD = sc.textFile(inputPathQuestions)"
   ]
  },
  {
   "cell_type": "code",
   "execution_count": 3,
   "metadata": {},
   "outputs": [],
   "source": [
    "# Create an RDD of pairs with the questionId as key and the question text as value\n",
    "questionsPairRDD = questionsRDD.map(lambda question: (question.split(\",\")[0] , question.split(\",\")[2]) )"
   ]
  },
  {
   "cell_type": "code",
   "execution_count": 4,
   "metadata": {},
   "outputs": [],
   "source": [
    "# Read the content of the answer file\n",
    "answersRDD = sc.textFile(inputPathAnswers)"
   ]
  },
  {
   "cell_type": "code",
   "execution_count": 5,
   "metadata": {},
   "outputs": [],
   "source": [
    "# Create an RDD of pairs with the questionId as key and the answer text as value\n",
    "answersPairRDD = answersRDD.map(lambda answer: (answer.split(\",\")[1] , answer.split(\",\")[3]) )"
   ]
  },
  {
   "cell_type": "code",
   "execution_count": 6,
   "metadata": {},
   "outputs": [],
   "source": [
    "# \"Cogroup\" the two RDDs of pairs\n",
    "questionsAnswersPairRDD = questionsPairRDD.cogroup(answersPairRDD)"
   ]
  },
  {
   "cell_type": "code",
   "execution_count": 7,
   "metadata": {},
   "outputs": [],
   "source": [
    "# Use map to transform the two iterables of each pair into a list (reformat them)\n",
    "questionsAnswersReformatted = questionsAnswersPairRDD.mapValues(lambda value: (list(value[0]), list(value[1]) ) )"
   ]
  },
  {
   "cell_type": "code",
   "execution_count": 23,
   "metadata": {},
   "outputs": [],
   "source": [
    "questionsAnswersReformatted.saveAsTextFile(outputPath)"
   ]
  }
 ],
 "metadata": {
  "kernelspec": {
   "display_name": "PySpark (Local)",
   "language": "python",
   "name": "pyspark_local"
  },
  "language_info": {
   "codemirror_mode": {
    "name": "ipython",
    "version": 3
   },
   "file_extension": ".py",
   "mimetype": "text/x-python",
   "name": "python",
   "nbconvert_exporter": "python",
   "pygments_lexer": "ipython3",
   "version": "3.7.5"
  }
 },
 "nbformat": 4,
 "nbformat_minor": 4
}
