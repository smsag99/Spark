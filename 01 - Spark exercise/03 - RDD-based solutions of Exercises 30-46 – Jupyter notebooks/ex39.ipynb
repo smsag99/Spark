{
 "cells": [
  {
   "cell_type": "code",
   "execution_count": 1,
   "metadata": {
    "ExecuteTime": {
     "end_time": "2019-10-25T15:57:47.661847Z",
     "start_time": "2019-10-25T15:57:47.659397Z"
    }
   },
   "outputs": [],
   "source": [
    "# Solution Ex. 39"
   ]
  },
  {
   "cell_type": "code",
   "execution_count": null,
   "metadata": {
    "ExecuteTime": {
     "end_time": "2019-10-25T15:57:48.080985Z",
     "start_time": "2019-10-25T15:57:48.076079Z"
    }
   },
   "outputs": [],
   "source": [
    "inputPath  = \"/data/students/bigdata-01QYD/ex_data/Ex39/data/sensors.txt\" # argv[1]\n",
    "outputPath = \"res_out_Ex39/\" # argv[2]"
   ]
  },
  {
   "cell_type": "code",
   "execution_count": null,
   "metadata": {
    "ExecuteTime": {
     "end_time": "2019-10-25T15:57:48.899109Z",
     "start_time": "2019-10-25T15:57:48.844664Z"
    }
   },
   "outputs": [],
   "source": [
    "# Read the content of the input file\n",
    "readingsRDD = sc.textFile(inputPath)"
   ]
  },
  {
   "cell_type": "code",
   "execution_count": 4,
   "metadata": {
    "ExecuteTime": {
     "end_time": "2019-10-25T15:57:49.949494Z",
     "start_time": "2019-10-25T15:57:49.941019Z"
    }
   },
   "outputs": [],
   "source": [
    "# Apply a filter transformation to select only the lines with PM10>50\n",
    "readingsHighValueRDD = readingsRDD.filter(lambda PM10Reading: float(PM10Reading.split(',')[2])>50 )"
   ]
  },
  {
   "cell_type": "code",
   "execution_count": 5,
   "metadata": {
    "ExecuteTime": {
     "end_time": "2019-10-25T15:57:50.189574Z",
     "start_time": "2019-10-25T15:57:50.178506Z"
    }
   },
   "outputs": [],
   "source": [
    "# Create an RDD of key-value pairs\n",
    "# Each pair contains a sensorId (key) and a date (value)\n",
    "# It can be implemented by using the map transformation. \n",
    "sensorsCriticalDatesRDD = readingsHighValueRDD.map(lambda PM10Reading: (PM10Reading.split(',')[0], PM10Reading.split(',')[1]) )"
   ]
  },
  {
   "cell_type": "code",
   "execution_count": 6,
   "metadata": {
    "ExecuteTime": {
     "end_time": "2019-10-25T15:57:50.361929Z",
     "start_time": "2019-10-25T15:57:50.350523Z"
    }
   },
   "outputs": [],
   "source": [
    "# Create one pair for each sensor (key) with the list of dates associated with that sensor (value)\n",
    "# by using the groupByKey transformation\n",
    "finalSensorCriticalDates = sensorsCriticalDatesRDD.groupByKey()"
   ]
  },
  {
   "cell_type": "code",
   "execution_count": 7,
   "metadata": {
    "ExecuteTime": {
     "end_time": "2019-10-25T15:57:50.552343Z",
     "start_time": "2019-10-25T15:57:50.539814Z"
    }
   },
   "outputs": [],
   "source": [
    "# The map method is used to transform the content of the iterable over the values of each key into a list (that can be stored in a readable format)\n",
    "finalSensorCriticalDateStringFormat = finalSensorCriticalDates.mapValues(lambda dates : list(dates))"
   ]
  },
  {
   "cell_type": "code",
   "execution_count": null,
   "metadata": {},
   "outputs": [],
   "source": [
    "# Store the result in the output folder\n",
    "finalSensorCriticalDateStringFormat.saveAsTextFile(outputPath)"
   ]
  }
 ],
 "metadata": {
  "kernelspec": {
   "display_name": "PySpark (Local)",
   "language": "python",
   "name": "pyspark_local"
  },
  "language_info": {
   "codemirror_mode": {
    "name": "ipython",
    "version": 3
   },
   "file_extension": ".py",
   "mimetype": "text/x-python",
   "name": "python",
   "nbconvert_exporter": "python",
   "pygments_lexer": "ipython3",
   "version": "3.7.5"
  },
  "toc": {
   "base_numbering": 1,
   "nav_menu": {},
   "number_sections": true,
   "sideBar": true,
   "skip_h1_title": false,
   "title_cell": "Table of Contents",
   "title_sidebar": "Contents",
   "toc_cell": false,
   "toc_position": {},
   "toc_section_display": true,
   "toc_window_display": false
  },
  "varInspector": {
   "cols": {
    "lenName": 16,
    "lenType": 16,
    "lenVar": 40
   },
   "kernels_config": {
    "python": {
     "delete_cmd_postfix": "",
     "delete_cmd_prefix": "del ",
     "library": "var_list.py",
     "varRefreshCmd": "print(var_dic_list())"
    },
    "r": {
     "delete_cmd_postfix": ") ",
     "delete_cmd_prefix": "rm(",
     "library": "var_list.r",
     "varRefreshCmd": "cat(var_dic_list()) "
    }
   },
   "types_to_exclude": [
    "module",
    "function",
    "builtin_function_or_method",
    "instance",
    "_Feature"
   ],
   "window_display": false
  }
 },
 "nbformat": 4,
 "nbformat_minor": 4
}
