{
 "cells": [
  {
   "cell_type": "code",
   "execution_count": 1,
   "metadata": {},
   "outputs": [],
   "source": [
    "# Solution Ex. 36"
   ]
  },
  {
   "cell_type": "code",
   "execution_count": 1,
   "metadata": {},
   "outputs": [],
   "source": [
    "inputPath  = \"/data/students/bigdata-01QYD/ex_data/Ex36/data/\""
   ]
  },
  {
   "cell_type": "code",
   "execution_count": null,
   "metadata": {},
   "outputs": [],
   "source": [
    "# Read the content of the input file\n",
    "readingsRDD = sc.textFile(inputPath)"
   ]
  },
  {
   "cell_type": "code",
   "execution_count": null,
   "metadata": {},
   "outputs": [],
   "source": [
    "# Compute the sum of the PM10 values and the number of input lines by using the aggregate action\n",
    "sumPM10ValuesCountLines = readingsRDD.aggregate((0,0), \\\n",
    "                                                  lambda intermediateResult, PM10Reading: \\\n",
    "                                                  (intermediateResult[0] + float(PM10Reading.split(',')[2]), intermediateResult[1] + 1), \\\n",
    "                                                  lambda intermR1, intermR2: (intermR1[0] + intermR2[0], intermR1[1] + intermR2[1]) )\n"
   ]
  },
  {
   "cell_type": "code",
   "execution_count": null,
   "metadata": {},
   "outputs": [],
   "source": [
    "# Compute the average PM10 value\n",
    "# sumPM10ValuesCountLines[0] is equal to the sum of the input PM10 values\n",
    "# sumPM10ValuesCountLines[1] is equal to the number of input lines/input values\n",
    "print(\"Average=\", sumPM10ValuesCountLines[0]/sumPM10ValuesCountLines[1])"
   ]
  }
 ],
 "metadata": {
  "kernelspec": {
   "display_name": "PySpark (Local)",
   "language": "python",
   "name": "pyspark_local"
  },
  "language_info": {
   "codemirror_mode": {
    "name": "ipython",
    "version": 3
   },
   "file_extension": ".py",
   "mimetype": "text/x-python",
   "name": "python",
   "nbconvert_exporter": "python",
   "pygments_lexer": "ipython3",
   "version": "3.7.5"
  }
 },
 "nbformat": 4,
 "nbformat_minor": 4
}
