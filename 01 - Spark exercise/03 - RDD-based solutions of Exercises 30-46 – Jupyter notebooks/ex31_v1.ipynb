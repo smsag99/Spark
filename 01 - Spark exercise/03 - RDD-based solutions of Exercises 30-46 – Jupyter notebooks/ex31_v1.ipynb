{
 "cells": [
  {
   "cell_type": "code",
   "execution_count": 14,
   "metadata": {},
   "outputs": [],
   "source": [
    "# Solution Ex. 31"
   ]
  },
  {
   "cell_type": "code",
   "execution_count": 5,
   "metadata": {},
   "outputs": [],
   "source": [
    "inputPath  = \"/data/students/bigdata-01QYD/ex_data/Ex31/data/\"\n",
    "outputPath = \"res_out_Ex31/\""
   ]
  },
  {
   "cell_type": "code",
   "execution_count": 6,
   "metadata": {},
   "outputs": [],
   "source": [
    "# Read the content of the input file\n",
    "# Each element/string of the logRDD corresponds to one line of the input file\n",
    "logRDD = sc.textFile(inputPath)"
   ]
  },
  {
   "cell_type": "code",
   "execution_count": 7,
   "metadata": {},
   "outputs": [],
   "source": [
    "# Only the elements of the RDD satisfying the filter are selected\n",
    "googleRDD = logRDD.filter(lambda logLine: logLine.lower().find(\"www.google.com\")>=0)"
   ]
  },
  {
   "cell_type": "code",
   "execution_count": 8,
   "metadata": {},
   "outputs": [],
   "source": [
    "# Use map to select only the IP address. It is the first field before -\n",
    "IPsRDD = googleRDD.map(lambda logLine: logLine.split('-')[0])"
   ]
  },
  {
   "cell_type": "code",
   "execution_count": 9,
   "metadata": {},
   "outputs": [],
   "source": [
    "# Remove duplicates\n",
    "distinctIPsRDD = IPsRDD.distinct()"
   ]
  },
  {
   "cell_type": "code",
   "execution_count": 13,
   "metadata": {},
   "outputs": [],
   "source": [
    "# Store the result in the output folder\n",
    "distinctIPsRDD.saveAsTextFile(outputPath)"
   ]
  }
 ],
 "metadata": {
  "kernelspec": {
   "display_name": "PySpark (Local)",
   "language": "python",
   "name": "pyspark_local"
  },
  "language_info": {
   "codemirror_mode": {
    "name": "ipython",
    "version": 3
   },
   "file_extension": ".py",
   "mimetype": "text/x-python",
   "name": "python",
   "nbconvert_exporter": "python",
   "pygments_lexer": "ipython3",
   "version": "3.7.5"
  }
 },
 "nbformat": 4,
 "nbformat_minor": 4
}
