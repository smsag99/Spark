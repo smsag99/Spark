{
 "cells": [
  {
   "cell_type": "code",
   "execution_count": 14,
   "metadata": {},
   "outputs": [],
   "source": [
    "# Solution Ex. 31 - solution based on flatMap"
   ]
  },
  {
   "cell_type": "code",
   "execution_count": 8,
   "metadata": {},
   "outputs": [],
   "source": [
    "inputPath  = \"/data/students/bigdata-01QYD/ex_data/Ex31/data/\"\n",
    "outputPath = \"res_out_Ex31flatMap/\""
   ]
  },
  {
   "cell_type": "code",
   "execution_count": 9,
   "metadata": {},
   "outputs": [],
   "source": [
    "# Read the content of the input file\n",
    "# Each element/string of the logRDD corresponds to one line of the input file\n",
    "logRDD = sc.textFile(inputPath)"
   ]
  },
  {
   "cell_type": "code",
   "execution_count": 10,
   "metadata": {},
   "outputs": [],
   "source": [
    "def filterAndExtractIP(line):\n",
    "    # Inizialize the list that will be returned by this function\n",
    "    listIPs = []\n",
    "    \n",
    "    # If line contains www.google.com add the IP of this line in the returned list\n",
    "    if line.lower().find(\"www.google.com\")>=0:\n",
    "        IP = line.split('-')[0]\n",
    "        listIPs.append(IP)\n",
    "        \n",
    "    # return listIPs\n",
    "    return listIPs"
   ]
  },
  {
   "cell_type": "code",
   "execution_count": 11,
   "metadata": {},
   "outputs": [],
   "source": [
    "# Only the elements of the RDD satisfying the filter are selected\n",
    "# and the associated IPs are returned\n",
    "# Those lines that do not contain \"www.google.com\" return an empy list.\n",
    "IPsRDD = logRDD.flatMap(filterAndExtractIP)"
   ]
  },
  {
   "cell_type": "code",
   "execution_count": 13,
   "metadata": {},
   "outputs": [],
   "source": [
    "# Remove duplicates\n",
    "distinctIPsRDD = IPsRDD.distinct()"
   ]
  },
  {
   "cell_type": "code",
   "execution_count": 13,
   "metadata": {},
   "outputs": [],
   "source": [
    "# Store the result in the output folder\n",
    "distinctIPsRDD.saveAsTextFile(outputPath)"
   ]
  }
 ],
 "metadata": {
  "kernelspec": {
   "display_name": "PySpark (Local)",
   "language": "python",
   "name": "pyspark_local"
  },
  "language_info": {
   "codemirror_mode": {
    "name": "ipython",
    "version": 3
   },
   "file_extension": ".py",
   "mimetype": "text/x-python",
   "name": "python",
   "nbconvert_exporter": "python",
   "pygments_lexer": "ipython3",
   "version": "3.7.5"
  }
 },
 "nbformat": 4,
 "nbformat_minor": 4
}
