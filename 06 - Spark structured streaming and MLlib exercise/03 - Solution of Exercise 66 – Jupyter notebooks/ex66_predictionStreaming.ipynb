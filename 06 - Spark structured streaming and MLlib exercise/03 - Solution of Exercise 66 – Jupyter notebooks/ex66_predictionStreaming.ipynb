{
 "cells": [
  {
   "cell_type": "code",
   "execution_count": null,
   "id": "surprised-anaheim",
   "metadata": {},
   "outputs": [],
   "source": [
    "from pyspark.ml.classification import LogisticRegression\n",
    "from pyspark.ml.feature import VectorAssembler, SQLTransformer\n",
    "from pyspark.ml import Pipeline,PipelineModel\n",
    "from pyspark.sql.types import StructType"
   ]
  },
  {
   "cell_type": "code",
   "execution_count": null,
   "id": "sufficient-spring",
   "metadata": {},
   "outputs": [],
   "source": [
    "streaming_path = 'inputStreaming/'\n",
    "model_path = 'pipelineClassificationModel/'\n",
    "\n",
    "output_path = 'predictions/'"
   ]
  },
  {
   "cell_type": "code",
   "execution_count": null,
   "id": "auburn-johns",
   "metadata": {},
   "outputs": [],
   "source": [
    "# Define the schema of the input data\n",
    "inputSchema = StructType()\\\n",
    ".add(\"sepallength\", \"double\")\\\n",
    ".add(\"sepalwidth\", \"double\")\\\n",
    ".add(\"petallength\", \"double\")\\\n",
    ".add(\"petalwidth\", \"double\")\\\n",
    ".add(\"variety\",\"double\")"
   ]
  },
  {
   "cell_type": "code",
   "execution_count": null,
   "id": "ordered-psychiatry",
   "metadata": {},
   "outputs": [],
   "source": [
    "# Define input stream\n",
    "data_stream = spark.readStream\\\n",
    "                    .format('csv')\\\n",
    "                    .option('path', streaming_path)\\\n",
    "                    .option('header', True)\\\n",
    "                    .schema(inputSchema)\\\n",
    "                    .load()"
   ]
  },
  {
   "cell_type": "code",
   "execution_count": null,
   "id": "treated-economy",
   "metadata": {},
   "outputs": [],
   "source": [
    "data_stream.printSchema()"
   ]
  },
  {
   "cell_type": "code",
   "execution_count": null,
   "id": "collectible-identifier",
   "metadata": {},
   "outputs": [],
   "source": [
    "# Real ML model\n",
    "model = PipelineModel.load(model_path)"
   ]
  },
  {
   "cell_type": "code",
   "execution_count": null,
   "id": "generous-marks",
   "metadata": {},
   "outputs": [],
   "source": [
    "predictions = model.transform(data_stream)"
   ]
  },
  {
   "cell_type": "code",
   "execution_count": null,
   "id": "greater-winning",
   "metadata": {},
   "outputs": [],
   "source": [
    "predictions.printSchema()"
   ]
  },
  {
   "cell_type": "code",
   "execution_count": null,
   "id": "liable-removal",
   "metadata": {},
   "outputs": [],
   "source": []
  },
  {
   "cell_type": "code",
   "execution_count": null,
   "id": "civil-arbitration",
   "metadata": {},
   "outputs": [],
   "source": [
    "predictionStreamWriter = predictions\\\n",
    ".select('sepallength', 'sepalwidth', 'petallength', 'petalwidth', 'prediction')\\\n",
    ".writeStream\\\n",
    ".format(\"csv\")\\\n",
    ".outputMode('append')\\\n",
    ".option(\"path\", output_path)\\\n",
    ".option(\"checkpointLocation\", \"checkpoint/\")"
   ]
  },
  {
   "cell_type": "code",
   "execution_count": null,
   "id": "divided-accounting",
   "metadata": {},
   "outputs": [],
   "source": [
    "prediction_stream = predictionStreamWriter.start()"
   ]
  },
  {
   "cell_type": "code",
   "execution_count": null,
   "id": "hungry-branch",
   "metadata": {},
   "outputs": [],
   "source": []
  },
  {
   "cell_type": "code",
   "execution_count": null,
   "id": "capable-arbor",
   "metadata": {},
   "outputs": [],
   "source": [
    "prediction_stream.stop()"
   ]
  },
  {
   "cell_type": "code",
   "execution_count": null,
   "id": "associate-russell",
   "metadata": {},
   "outputs": [],
   "source": []
  }
 ],
 "metadata": {
  "kernelspec": {
   "display_name": "Python 3",
   "language": "python",
   "name": "python3"
  },
  "language_info": {
   "codemirror_mode": {
    "name": "ipython",
    "version": 3
   },
   "file_extension": ".py",
   "mimetype": "text/x-python",
   "name": "python",
   "nbconvert_exporter": "python",
   "pygments_lexer": "ipython3",
   "version": "3.8.5"
  }
 },
 "nbformat": 4,
 "nbformat_minor": 5
}
