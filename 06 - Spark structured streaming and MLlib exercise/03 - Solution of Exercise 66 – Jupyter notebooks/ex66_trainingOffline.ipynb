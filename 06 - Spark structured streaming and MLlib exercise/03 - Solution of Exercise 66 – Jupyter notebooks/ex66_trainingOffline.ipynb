{
 "cells": [
  {
   "cell_type": "code",
   "execution_count": null,
   "id": "hidden-technique",
   "metadata": {},
   "outputs": [],
   "source": [
    "from pyspark.ml.classification import LogisticRegression\n",
    "from pyspark.ml.feature import VectorAssembler, SQLTransformer\n",
    "from pyspark.ml import Pipeline"
   ]
  },
  {
   "cell_type": "code",
   "execution_count": null,
   "id": "imposed-ancient",
   "metadata": {},
   "outputs": [],
   "source": [
    "train_path = 'data/training.csv'\n",
    "\n",
    "model_savepath = 'pipelineClassificationModel/'"
   ]
  },
  {
   "cell_type": "code",
   "execution_count": null,
   "id": "exceptional-concentrate",
   "metadata": {},
   "outputs": [],
   "source": [
    "# Read training data\n",
    "train_df = spark.read\\\n",
    ".load(path=train_path, header=True, format='csv', inferSchema=True)"
   ]
  },
  {
   "cell_type": "code",
   "execution_count": null,
   "id": "ready-break",
   "metadata": {},
   "outputs": [],
   "source": [
    "train_df.printSchema()\n",
    "train_df.show()"
   ]
  },
  {
   "cell_type": "code",
   "execution_count": null,
   "id": "crazy-graduate",
   "metadata": {},
   "outputs": [],
   "source": [
    "vector_assembler = VectorAssembler(inputCols=[\"sepallength\",\"sepalwidth\"],\\\n",
    "                                   outputCol='features')"
   ]
  },
  {
   "cell_type": "code",
   "execution_count": null,
   "id": "meaningful-holocaust",
   "metadata": {},
   "outputs": [],
   "source": [
    "# Select features and rename variety as label\n",
    "sql_transformer = SQLTransformer(statement=\"\"\"\n",
    "    SELECT sepallength, sepalwidth, petallength, petalwidth, features, variety as label\n",
    "    FROM __THIS__\n",
    "    \"\"\")"
   ]
  },
  {
   "cell_type": "code",
   "execution_count": null,
   "id": "private-greek",
   "metadata": {},
   "outputs": [],
   "source": [
    "lr = LogisticRegression()"
   ]
  },
  {
   "cell_type": "code",
   "execution_count": null,
   "id": "black-ancient",
   "metadata": {},
   "outputs": [],
   "source": [
    "pipeline = Pipeline().setStages([vector_assembler, sql_transformer, lr])"
   ]
  },
  {
   "cell_type": "code",
   "execution_count": null,
   "id": "printable-clark",
   "metadata": {},
   "outputs": [],
   "source": [
    "# Train the model\n",
    "model = pipeline.fit(train_df)"
   ]
  },
  {
   "cell_type": "code",
   "execution_count": null,
   "id": "flush-omega",
   "metadata": {},
   "outputs": [],
   "source": [
    "# Save the trained model in the output folder \n",
    "model.save(model_savepath)"
   ]
  },
  {
   "cell_type": "code",
   "execution_count": null,
   "id": "appreciated-insert",
   "metadata": {},
   "outputs": [],
   "source": []
  }
 ],
 "metadata": {
  "kernelspec": {
   "display_name": "Python 3",
   "language": "python",
   "name": "python3"
  },
  "language_info": {
   "codemirror_mode": {
    "name": "ipython",
    "version": 3
   },
   "file_extension": ".py",
   "mimetype": "text/x-python",
   "name": "python",
   "nbconvert_exporter": "python",
   "pygments_lexer": "ipython3",
   "version": "3.8.5"
  }
 },
 "nbformat": 4,
 "nbformat_minor": 5
}
