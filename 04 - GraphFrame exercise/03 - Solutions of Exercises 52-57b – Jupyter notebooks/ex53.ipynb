{
 "cells": [
  {
   "cell_type": "code",
   "execution_count": 7,
   "metadata": {},
   "outputs": [],
   "source": [
    "from graphframes import GraphFrame"
   ]
  },
  {
   "cell_type": "code",
   "execution_count": 8,
   "metadata": {},
   "outputs": [],
   "source": [
    "inputPathVertexes = \"data/Ex53/data/vertexes.csv\"\n",
    "inputPathEdges = \"data/Ex53/data/edges.csv\"\n",
    "outputPath = \"resOut_ex53/\""
   ]
  },
  {
   "cell_type": "code",
   "execution_count": 9,
   "metadata": {},
   "outputs": [],
   "source": [
    "# Read the content of vertexes.csv\n",
    "vDF = spark.read.load(inputPathVertexes,\\\n",
    "                             format=\"csv\",\n",
    "                             header=True,\\\n",
    "                             inferSchema=True)"
   ]
  },
  {
   "cell_type": "code",
   "execution_count": 10,
   "metadata": {},
   "outputs": [],
   "source": [
    "#vDF.printSchema()\n",
    "#vDF.show()"
   ]
  },
  {
   "cell_type": "code",
   "execution_count": 11,
   "metadata": {},
   "outputs": [],
   "source": [
    "# Read the content of edges.csv\n",
    "eDF = spark.read.load(inputPathEdges,\\\n",
    "                             format=\"csv\",\n",
    "                             header=True,\\\n",
    "                             inferSchema=True)"
   ]
  },
  {
   "cell_type": "code",
   "execution_count": 12,
   "metadata": {},
   "outputs": [],
   "source": [
    "#eDF.printSchema()\n",
    "#eDF.show()"
   ]
  },
  {
   "cell_type": "code",
   "execution_count": 13,
   "metadata": {},
   "outputs": [],
   "source": [
    "# Only the \"follow\" edges are useful\n",
    "# Filter the input edge dataframe before creating the graph\n",
    "filteredEdfes = eDF.filter(\"linktype='follow' \")"
   ]
  },
  {
   "cell_type": "code",
   "execution_count": 14,
   "metadata": {},
   "outputs": [],
   "source": [
    "# Create the input graph\n",
    "g = GraphFrame(vDF, filteredEdfes)"
   ]
  },
  {
   "cell_type": "code",
   "execution_count": 15,
   "metadata": {},
   "outputs": [],
   "source": [
    "# Count the number of followers for each user (i.e., the number of in-links) \n",
    "userNumFollowersDF = g.inDegrees.withColumnRenamed(\"inDegree\",\"numFollowers\")"
   ]
  },
  {
   "cell_type": "code",
   "execution_count": 16,
   "metadata": {},
   "outputs": [],
   "source": [
    "#userNumFollowersDF.printSchema()\n",
    "#userNumFollowersDF.show()"
   ]
  },
  {
   "cell_type": "code",
   "execution_count": 17,
   "metadata": {},
   "outputs": [],
   "source": [
    "# Select the user(s) with the maximum number of followers"
   ]
  },
  {
   "cell_type": "code",
   "execution_count": 18,
   "metadata": {},
   "outputs": [],
   "source": [
    "# Compute the maximum value of \"number of followers\"\n",
    "maxFollowersDF = userNumFollowersDF.agg({\"numFollowers\":\"max\"})\\\n",
    ".withColumnRenamed(\"max(numFollowers)\",\"maxFollowers\")"
   ]
  },
  {
   "cell_type": "code",
   "execution_count": 19,
   "metadata": {},
   "outputs": [],
   "source": [
    "#maxFollowersDF.printSchema()\n",
    "#maxFollowersDF.show()"
   ]
  },
  {
   "cell_type": "code",
   "execution_count": 20,
   "metadata": {},
   "outputs": [],
   "source": [
    "# Select the single record/Row of the DataFrame maxFollowersDF\n",
    "rowMaxNumFollowers = maxFollowersDF.first()"
   ]
  },
  {
   "cell_type": "code",
   "execution_count": 21,
   "metadata": {},
   "outputs": [],
   "source": [
    "#type(maxFollowers)"
   ]
  },
  {
   "cell_type": "code",
   "execution_count": 22,
   "metadata": {},
   "outputs": [],
   "source": [
    "# Retrieve the maximum number of followers from rowMaxNumFollowers\n",
    "maxNumFollowers=rowMaxNumFollowers.maxFollowers"
   ]
  },
  {
   "cell_type": "code",
   "execution_count": 23,
   "metadata": {},
   "outputs": [],
   "source": [
    "# Select the user(s) with the maximum number of followers\n",
    "selectedUsersDF=userNumFollowersDF.filter(userNumFollowersDF.numFollowers==maxNumFollowers)\n",
    "# Or\n",
    "#electedUsersDF=userNumFollowersDF.filter(\"numFollowers=\"+str(maxNumFollowers))"
   ]
  },
  {
   "cell_type": "code",
   "execution_count": 24,
   "metadata": {},
   "outputs": [
    {
     "name": "stdout",
     "output_type": "stream",
     "text": [
      "root\n",
      " |-- id: string (nullable = true)\n",
      " |-- numFollowers: integer (nullable = false)\n",
      "\n",
      "+---+------------+\n",
      "| id|numFollowers|\n",
      "+---+------------+\n",
      "| u3|           2|\n",
      "| u6|           2|\n",
      "+---+------------+\n",
      "\n"
     ]
    }
   ],
   "source": [
    "selectedUsersDF.printSchema()\n",
    "selectedUsersDF.show()"
   ]
  },
  {
   "cell_type": "code",
   "execution_count": 63,
   "metadata": {},
   "outputs": [],
   "source": [
    "# Save the result in the output folder\n",
    "selectedUsersDF.write.csv(outputPath, header=True)"
   ]
  },
  {
   "cell_type": "code",
   "execution_count": null,
   "metadata": {},
   "outputs": [],
   "source": []
  }
 ],
 "metadata": {
  "kernelspec": {
   "display_name": "Python 3",
   "language": "python",
   "name": "python3"
  },
  "language_info": {
   "codemirror_mode": {
    "name": "ipython",
    "version": 3
   },
   "file_extension": ".py",
   "mimetype": "text/x-python",
   "name": "python",
   "nbconvert_exporter": "python",
   "pygments_lexer": "ipython3",
   "version": "3.6.9"
  }
 },
 "nbformat": 4,
 "nbformat_minor": 4
}
