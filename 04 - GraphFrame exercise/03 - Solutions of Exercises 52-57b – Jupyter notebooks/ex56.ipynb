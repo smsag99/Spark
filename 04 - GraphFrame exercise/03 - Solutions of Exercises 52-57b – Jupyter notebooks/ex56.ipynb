{
 "cells": [
  {
   "cell_type": "code",
   "execution_count": 1,
   "metadata": {},
   "outputs": [],
   "source": [
    "from graphframes import GraphFrame"
   ]
  },
  {
   "cell_type": "code",
   "execution_count": 2,
   "metadata": {},
   "outputs": [],
   "source": [
    "inputPathVertexes = \"data/Ex56/data/vertexes.csv\"\n",
    "inputPathEdges = \"data/Ex56/data/edges.csv\"\n",
    "outputPath = \"resOut_ex56/\""
   ]
  },
  {
   "cell_type": "code",
   "execution_count": 3,
   "metadata": {},
   "outputs": [],
   "source": [
    "# Read the content of vertexes.csv\n",
    "vDF = spark.read.load(inputPathVertexes,\\\n",
    "                             format=\"csv\",\n",
    "                             header=True,\\\n",
    "                             inferSchema=True)"
   ]
  },
  {
   "cell_type": "code",
   "execution_count": 4,
   "metadata": {},
   "outputs": [
    {
     "name": "stdout",
     "output_type": "stream",
     "text": [
      "root\n",
      " |-- id: string (nullable = true)\n",
      " |-- entityName: string (nullable = true)\n",
      " |-- name: string (nullable = true)\n",
      "\n",
      "+---+----------+--------+\n",
      "| id|entityName|    name|\n",
      "+---+----------+--------+\n",
      "| V1|      user|   Paolo|\n",
      "| V2|     topic|     SQL|\n",
      "| V3|      user|   David|\n",
      "| V4|     topic|Big Data|\n",
      "| V5|      user|    John|\n",
      "+---+----------+--------+\n",
      "\n"
     ]
    }
   ],
   "source": [
    "vDF.printSchema()\n",
    "vDF.show()"
   ]
  },
  {
   "cell_type": "code",
   "execution_count": 7,
   "metadata": {},
   "outputs": [],
   "source": [
    "# Read the content of edges.csv\n",
    "eDF = spark.read.load(inputPathEdges,\\\n",
    "                             format=\"csv\",\n",
    "                             header=True,\\\n",
    "                             inferSchema=True)"
   ]
  },
  {
   "cell_type": "code",
   "execution_count": 8,
   "metadata": {},
   "outputs": [
    {
     "name": "stdout",
     "output_type": "stream",
     "text": [
      "root\n",
      " |-- src: string (nullable = true)\n",
      " |-- dst: string (nullable = true)\n",
      " |-- linktype: string (nullable = true)\n",
      "\n",
      "+---+---+----------+\n",
      "|src|dst|  linktype|\n",
      "+---+---+----------+\n",
      "| V1| V2|      like|\n",
      "| V1| V3|    follow|\n",
      "| V1| V4|    follow|\n",
      "| V3| V2|    follow|\n",
      "| V3| V4|    follow|\n",
      "| V5| V2|  expertOf|\n",
      "| V2| V4|correlated|\n",
      "| V4| V2|correlated|\n",
      "+---+---+----------+\n",
      "\n"
     ]
    }
   ],
   "source": [
    "eDF.printSchema()\n",
    "eDF.show()"
   ]
  },
  {
   "cell_type": "code",
   "execution_count": 9,
   "metadata": {},
   "outputs": [],
   "source": [
    "# Only the \"follow\"  and \"correlated\" edges are useful\n",
    "# Filter the input edge dataframe before creating the graph\n",
    "filteredEdfes = eDF.filter(\"linktype='follow' OR linktype='correlated' \")"
   ]
  },
  {
   "cell_type": "code",
   "execution_count": 10,
   "metadata": {},
   "outputs": [],
   "source": [
    "# Create the input graph\n",
    "g = GraphFrame(vDF, filteredEdfes)"
   ]
  },
  {
   "cell_type": "code",
   "execution_count": 13,
   "metadata": {},
   "outputs": [],
   "source": [
    "pathsDF = g.find(\"(v1)-[e1]->(v2);(v2)-[e2]->(v3)\")"
   ]
  },
  {
   "cell_type": "code",
   "execution_count": 14,
   "metadata": {},
   "outputs": [
    {
     "name": "stdout",
     "output_type": "stream",
     "text": [
      "root\n",
      " |-- v1: struct (nullable = false)\n",
      " |    |-- id: string (nullable = true)\n",
      " |    |-- entityName: string (nullable = true)\n",
      " |    |-- name: string (nullable = true)\n",
      " |-- e1: struct (nullable = false)\n",
      " |    |-- src: string (nullable = true)\n",
      " |    |-- dst: string (nullable = true)\n",
      " |    |-- linktype: string (nullable = true)\n",
      " |-- v2: struct (nullable = false)\n",
      " |    |-- id: string (nullable = true)\n",
      " |    |-- entityName: string (nullable = true)\n",
      " |    |-- name: string (nullable = true)\n",
      " |-- e2: struct (nullable = false)\n",
      " |    |-- src: string (nullable = true)\n",
      " |    |-- dst: string (nullable = true)\n",
      " |    |-- linktype: string (nullable = true)\n",
      " |-- v3: struct (nullable = false)\n",
      " |    |-- id: string (nullable = true)\n",
      " |    |-- entityName: string (nullable = true)\n",
      " |    |-- name: string (nullable = true)\n",
      "\n",
      "+--------------------+--------------------+--------------------+--------------------+--------------------+\n",
      "|                  v1|                  e1|                  v2|                  e2|                  v3|\n",
      "+--------------------+--------------------+--------------------+--------------------+--------------------+\n",
      "|   [V1, user, Paolo]|    [V1, V3, follow]|   [V3, user, David]|    [V3, V4, follow]|[V4, topic, Big D...|\n",
      "|   [V1, user, Paolo]|    [V1, V3, follow]|   [V3, user, David]|    [V3, V2, follow]|    [V2, topic, SQL]|\n",
      "|   [V1, user, Paolo]|    [V1, V4, follow]|[V4, topic, Big D...|[V4, V2, correlated]|    [V2, topic, SQL]|\n",
      "|   [V3, user, David]|    [V3, V2, follow]|    [V2, topic, SQL]|[V2, V4, correlated]|[V4, topic, Big D...|\n",
      "|   [V3, user, David]|    [V3, V4, follow]|[V4, topic, Big D...|[V4, V2, correlated]|    [V2, topic, SQL]|\n",
      "|    [V2, topic, SQL]|[V2, V4, correlated]|[V4, topic, Big D...|[V4, V2, correlated]|    [V2, topic, SQL]|\n",
      "|[V4, topic, Big D...|[V4, V2, correlated]|    [V2, topic, SQL]|[V2, V4, correlated]|[V4, topic, Big D...|\n",
      "+--------------------+--------------------+--------------------+--------------------+--------------------+\n",
      "\n"
     ]
    }
   ],
   "source": [
    "pathsDF.printSchema()\n",
    "pathsDF.show()"
   ]
  },
  {
   "cell_type": "code",
   "execution_count": 18,
   "metadata": {},
   "outputs": [],
   "source": [
    "# Select the triples user -> follow -> topic -> correlated -> topic=\"Big data\"\n",
    "selectedPathsDF = pathsDF.filter(\"\"\"v1.entityName='user' \n",
    "AND e1.linktype='follow'\n",
    "AND v2.entityName='topic'\n",
    "AND e2.linktype='correlated'\n",
    "AND v3.entityName='topic' AND v3.name='Big Data' \"\"\")"
   ]
  },
  {
   "cell_type": "code",
   "execution_count": 19,
   "metadata": {},
   "outputs": [
    {
     "name": "stdout",
     "output_type": "stream",
     "text": [
      "root\n",
      " |-- v1: struct (nullable = false)\n",
      " |    |-- id: string (nullable = true)\n",
      " |    |-- entityName: string (nullable = true)\n",
      " |    |-- name: string (nullable = true)\n",
      " |-- e1: struct (nullable = false)\n",
      " |    |-- src: string (nullable = true)\n",
      " |    |-- dst: string (nullable = true)\n",
      " |    |-- linktype: string (nullable = true)\n",
      " |-- v2: struct (nullable = false)\n",
      " |    |-- id: string (nullable = true)\n",
      " |    |-- entityName: string (nullable = true)\n",
      " |    |-- name: string (nullable = true)\n",
      " |-- e2: struct (nullable = false)\n",
      " |    |-- src: string (nullable = true)\n",
      " |    |-- dst: string (nullable = true)\n",
      " |    |-- linktype: string (nullable = true)\n",
      " |-- v3: struct (nullable = false)\n",
      " |    |-- id: string (nullable = true)\n",
      " |    |-- entityName: string (nullable = true)\n",
      " |    |-- name: string (nullable = true)\n",
      "\n",
      "+-----------------+----------------+----------------+--------------------+--------------------+\n",
      "|               v1|              e1|              v2|                  e2|                  v3|\n",
      "+-----------------+----------------+----------------+--------------------+--------------------+\n",
      "|[V3, user, David]|[V3, V2, follow]|[V2, topic, SQL]|[V2, V4, correlated]|[V4, topic, Big D...|\n",
      "+-----------------+----------------+----------------+--------------------+--------------------+\n",
      "\n"
     ]
    }
   ],
   "source": [
    "selectedPathsDF.printSchema()\n",
    "selectedPathsDF.show()"
   ]
  },
  {
   "cell_type": "code",
   "execution_count": 21,
   "metadata": {},
   "outputs": [],
   "source": [
    "# Select name of the selected users\n",
    "usersDF = selectedPathsDF.selectExpr(\"v1.name as username\")"
   ]
  },
  {
   "cell_type": "code",
   "execution_count": 22,
   "metadata": {},
   "outputs": [
    {
     "name": "stdout",
     "output_type": "stream",
     "text": [
      "+--------+\n",
      "|username|\n",
      "+--------+\n",
      "|   David|\n",
      "+--------+\n",
      "\n"
     ]
    }
   ],
   "source": [
    "usersDF.show()"
   ]
  },
  {
   "cell_type": "code",
   "execution_count": 23,
   "metadata": {},
   "outputs": [],
   "source": [
    "# Save the result in the output folder\n",
    "usersDF.write.csv(outputPath, header=True)"
   ]
  },
  {
   "cell_type": "code",
   "execution_count": null,
   "metadata": {},
   "outputs": [],
   "source": []
  }
 ],
 "metadata": {
  "kernelspec": {
   "display_name": "Python 3",
   "language": "python",
   "name": "python3"
  },
  "language_info": {
   "codemirror_mode": {
    "name": "ipython",
    "version": 3
   },
   "file_extension": ".py",
   "mimetype": "text/x-python",
   "name": "python",
   "nbconvert_exporter": "python",
   "pygments_lexer": "ipython3",
   "version": "3.6.9"
  }
 },
 "nbformat": 4,
 "nbformat_minor": 4
}
