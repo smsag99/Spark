{
 "cells": [
  {
   "cell_type": "code",
   "execution_count": 19,
   "metadata": {},
   "outputs": [],
   "source": [
    "from graphframes import GraphFrame"
   ]
  },
  {
   "cell_type": "code",
   "execution_count": 47,
   "metadata": {},
   "outputs": [],
   "source": [
    "inputPathVertexes = \"data/Ex55/data/vertexes.csv\"\n",
    "inputPathEdges = \"data/Ex55/data/edges.csv\"\n",
    "outputPath = \"resOut_ex55/\""
   ]
  },
  {
   "cell_type": "code",
   "execution_count": 48,
   "metadata": {},
   "outputs": [],
   "source": [
    "# Read the content of vertexes.csv\n",
    "vDF = spark.read.load(inputPathVertexes,\\\n",
    "                             format=\"csv\",\n",
    "                             header=True,\\\n",
    "                             inferSchema=True)"
   ]
  },
  {
   "cell_type": "code",
   "execution_count": 49,
   "metadata": {},
   "outputs": [
    {
     "name": "stdout",
     "output_type": "stream",
     "text": [
      "root\n",
      " |-- id: string (nullable = true)\n",
      " |-- entityName: string (nullable = true)\n",
      " |-- name: string (nullable = true)\n",
      "\n",
      "+---+----------+--------+\n",
      "| id|entityName|    name|\n",
      "+---+----------+--------+\n",
      "| V1|      user|   Paolo|\n",
      "| V2|     topic|     SQL|\n",
      "| V3|      user|   David|\n",
      "| V4|     topic|Big Data|\n",
      "| V5|      user|    John|\n",
      "+---+----------+--------+\n",
      "\n"
     ]
    }
   ],
   "source": [
    "vDF.printSchema()\n",
    "vDF.show()"
   ]
  },
  {
   "cell_type": "code",
   "execution_count": 50,
   "metadata": {},
   "outputs": [],
   "source": [
    "# Read the content of edges.csv\n",
    "eDF = spark.read.load(inputPathEdges,\\\n",
    "                             format=\"csv\",\n",
    "                             header=True,\\\n",
    "                             inferSchema=True)"
   ]
  },
  {
   "cell_type": "code",
   "execution_count": 51,
   "metadata": {},
   "outputs": [
    {
     "name": "stdout",
     "output_type": "stream",
     "text": [
      "root\n",
      " |-- src: string (nullable = true)\n",
      " |-- dst: string (nullable = true)\n",
      " |-- linktype: string (nullable = true)\n",
      "\n",
      "+---+---+----------+\n",
      "|src|dst|  linktype|\n",
      "+---+---+----------+\n",
      "| V1| V2|      like|\n",
      "| V1| V3|    follow|\n",
      "| V1| V4|    follow|\n",
      "| V3| V2|      like|\n",
      "| V3| V4|      like|\n",
      "| V5| V2|  expertOf|\n",
      "| V2| V4|correlated|\n",
      "| V4| V2|correlated|\n",
      "+---+---+----------+\n",
      "\n"
     ]
    }
   ],
   "source": [
    "eDF.printSchema()\n",
    "eDF.show()"
   ]
  },
  {
   "cell_type": "code",
   "execution_count": 65,
   "metadata": {},
   "outputs": [],
   "source": [
    "# Only the \"follow\" edges are useful\n",
    "# Filter the input edge dataframe before creating the graph\n",
    "filteredEdfes = eDF.filter(\"linktype='follow' \")"
   ]
  },
  {
   "cell_type": "code",
   "execution_count": 66,
   "metadata": {},
   "outputs": [],
   "source": [
    "# Create the input graph\n",
    "g = GraphFrame(vDF, filteredEdfes)"
   ]
  },
  {
   "cell_type": "code",
   "execution_count": 67,
   "metadata": {},
   "outputs": [],
   "source": [
    "pathsDF = g.find(\"(v1)-[]->(v2)\")"
   ]
  },
  {
   "cell_type": "code",
   "execution_count": 68,
   "metadata": {},
   "outputs": [
    {
     "name": "stdout",
     "output_type": "stream",
     "text": [
      "root\n",
      " |-- v1: struct (nullable = false)\n",
      " |    |-- id: string (nullable = true)\n",
      " |    |-- entityName: string (nullable = true)\n",
      " |    |-- name: string (nullable = true)\n",
      " |-- v2: struct (nullable = false)\n",
      " |    |-- id: string (nullable = true)\n",
      " |    |-- entityName: string (nullable = true)\n",
      " |    |-- name: string (nullable = true)\n",
      "\n",
      "+-----------------+--------------------+\n",
      "|               v1|                  v2|\n",
      "+-----------------+--------------------+\n",
      "|[V1, user, Paolo]|   [V3, user, David]|\n",
      "|[V1, user, Paolo]|[V4, topic, Big D...|\n",
      "|[V3, user, David]|    [V2, topic, SQL]|\n",
      "|[V3, user, David]|[V4, topic, Big D...|\n",
      "+-----------------+--------------------+\n",
      "\n"
     ]
    }
   ],
   "source": [
    "pathsDF.printSchema()\n",
    "pathsDF.show()"
   ]
  },
  {
   "cell_type": "code",
   "execution_count": 69,
   "metadata": {},
   "outputs": [],
   "source": [
    "# Select the pair (user,topic)\n",
    "selectedPathsDF = pathsDF.filter(\"v1.entityName='user' AND v2.entityName='topic' \")"
   ]
  },
  {
   "cell_type": "code",
   "execution_count": 70,
   "metadata": {},
   "outputs": [
    {
     "name": "stdout",
     "output_type": "stream",
     "text": [
      "root\n",
      " |-- v1: struct (nullable = false)\n",
      " |    |-- id: string (nullable = true)\n",
      " |    |-- entityName: string (nullable = true)\n",
      " |    |-- name: string (nullable = true)\n",
      " |-- v2: struct (nullable = false)\n",
      " |    |-- id: string (nullable = true)\n",
      " |    |-- entityName: string (nullable = true)\n",
      " |    |-- name: string (nullable = true)\n",
      "\n",
      "+-----------------+--------------------+\n",
      "|               v1|                  v2|\n",
      "+-----------------+--------------------+\n",
      "|[V1, user, Paolo]|[V4, topic, Big D...|\n",
      "|[V3, user, David]|    [V2, topic, SQL]|\n",
      "|[V3, user, David]|[V4, topic, Big D...|\n",
      "+-----------------+--------------------+\n",
      "\n"
     ]
    }
   ],
   "source": [
    "selectedPathsDF.printSchema()\n",
    "selectedPathsDF.show()"
   ]
  },
  {
   "cell_type": "code",
   "execution_count": 74,
   "metadata": {},
   "outputs": [],
   "source": [
    "# Select name of the user and \"name\" of the topic\n",
    "userTopicDF = selectedPathsDF.selectExpr(\"v1.name as username\", \"v2.name as topic\")"
   ]
  },
  {
   "cell_type": "code",
   "execution_count": 75,
   "metadata": {},
   "outputs": [
    {
     "name": "stdout",
     "output_type": "stream",
     "text": [
      "+--------+--------+\n",
      "|username|   topic|\n",
      "+--------+--------+\n",
      "|   Paolo|Big Data|\n",
      "|   David|     SQL|\n",
      "|   David|Big Data|\n",
      "+--------+--------+\n",
      "\n"
     ]
    }
   ],
   "source": [
    "userTopicDF.show()"
   ]
  },
  {
   "cell_type": "code",
   "execution_count": 73,
   "metadata": {},
   "outputs": [],
   "source": [
    "# Save the result in the output folder\n",
    "userTopicDF.write.csv(outputPath, header=True)"
   ]
  },
  {
   "cell_type": "code",
   "execution_count": null,
   "metadata": {},
   "outputs": [],
   "source": []
  }
 ],
 "metadata": {
  "kernelspec": {
   "display_name": "Python 3",
   "language": "python",
   "name": "python3"
  },
  "language_info": {
   "codemirror_mode": {
    "name": "ipython",
    "version": 3
   },
   "file_extension": ".py",
   "mimetype": "text/x-python",
   "name": "python",
   "nbconvert_exporter": "python",
   "pygments_lexer": "ipython3",
   "version": "3.6.9"
  }
 },
 "nbformat": 4,
 "nbformat_minor": 4
}
